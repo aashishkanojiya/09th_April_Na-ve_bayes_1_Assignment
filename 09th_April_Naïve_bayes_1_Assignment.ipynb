{
  "nbformat": 4,
  "nbformat_minor": 0,
  "metadata": {
    "colab": {
      "provenance": []
    },
    "kernelspec": {
      "name": "python3",
      "display_name": "Python 3"
    },
    "language_info": {
      "name": "python"
    }
  },
  "cells": [
    {
      "cell_type": "markdown",
      "source": [
        "Q1. What is Bayes' theorem?"
      ],
      "metadata": {
        "id": "Eovy5XXl6vb_"
      }
    },
    {
      "cell_type": "markdown",
      "source": [
        "Answer:-\n",
        "\n",
        "Bayes' theorem is a fundamental concept in probability theory and statistics that provides a framework for updating probability beliefs or estimates based on new evidence or information. It's named after the 18th-century statistician and philosopher Thomas Bayes.\n",
        "\n",
        "The core idea of Bayes' theorem is to calculate the probability of an event (A) occurring given that another event (B) has occurred.\n",
        "\n",
        "This conditional probability, denoted as P(A|B), is calculated using the following formula:\n",
        "\n",
        "P(A|B) = (P(B|A) * P(A)) / P(B)\n",
        "\n",
        "Where:\n",
        "\n",
        "P(A|B) represents the conditional probability of event A occurring given that event B has occurred.\n",
        "\n",
        "P(B|A) is the conditional probability of event B occurring given that event A has occurred.\n",
        "\n",
        "P(A) is the prior probability of event A occurring independently of any information about event B.\n",
        "\n",
        "P(B) is the prior probability of event B occurring independently of any information about event A.\n",
        "\n",
        "Bayes' theorem allows us to update our belief or estimate of the probability of an event (A) occurring based on new evidence or information (B). It is commonly used in various fields, including machine learning, statistics, and data science, for tasks such as Bayesian inference, spam filtering, medical diagnosis, and more. Bayesian statistics, in particular, is a branch of statistics that relies heavily on Bayes' theorem to update probability distributions based on data and prior beliefs.\n",
        "\n"
      ],
      "metadata": {
        "id": "7M4lGmLv6wAe"
      }
    },
    {
      "cell_type": "markdown",
      "source": [
        "Q2. What is the formula for Bayes' theorem?"
      ],
      "metadata": {
        "id": "OBS3GCUT7k4_"
      }
    },
    {
      "cell_type": "markdown",
      "source": [
        "Answer:-\n",
        "\n",
        "The formula for Bayes' theorem can be stated as follows:\n",
        "\n",
        "P(A|B) = (P(B|A) * P(A)) / P(B)\n",
        "\n",
        "Where:-\n",
        "\n",
        "P(A|B) is the probability of event A given that event B has occurred\n",
        "\n",
        "P(B|A) is the probability of event B given that event A has occurred\n",
        "\n",
        "P(A) is the prior probability of event A\n",
        "\n",
        "P(B) is the prior probability of event B\n"
      ],
      "metadata": {
        "id": "T1JMMLFw7lTV"
      }
    },
    {
      "cell_type": "markdown",
      "source": [
        "Q3. How is Bayes' theorem used in practice?"
      ],
      "metadata": {
        "id": "HFdif6AR73vE"
      }
    },
    {
      "cell_type": "markdown",
      "source": [
        "Answer:-\n",
        "\n",
        "Practical Uses of Bayes' Theorem\n",
        "\n",
        "1.Medical Diagnosis:\n",
        "\n",
        "Doctors use Bayes' theorem to figure out how likely it is that a patient has a certain disease after they get test results. For example, if a test shows a positive result, Bayes' theorem helps them understand the actual chance of the patient having the disease, considering how accurate the test is and how common the disease is in the population.\n",
        "\n",
        "2.Spam Filtering:\n",
        "\n",
        "Email services use Bayes' theorem to identify spam emails. The system looks at the words in an email and calculates the probability that it’s spam based on what it has learned from previous emails. This way, it gets better at filtering out unwanted messages over time.\n",
        "\n",
        "3.Machine Learning:\n",
        "\n",
        "In the world of artificial intelligence, Bayes' theorem is used in algorithms that classify data. For instance, a Naive Bayes classifier uses this theorem to predict which category a new piece of data belongs to, based on prior knowledge and new information.\n",
        "\n",
        "4.Risk Assessment:\n",
        "\n",
        "In finance and insurance, companies use Bayes' theorem to update their understanding of risks. For example, if new data shows that certain types of claims are becoming more common, they can adjust their estimates of how likely it is that similar claims will occur in the future.\n",
        "\n",
        "5.Natural Language Processing (NLP):\n",
        "\n",
        "In tasks like sentiment analysis (determining if a piece of text is positive or negative), Bayes' theorem helps analyze the words used in the text to predict its overall sentiment.\n",
        "\n",
        "6.Genetics:\n",
        "\n",
        "In genetics, Bayes' theorem can help determine the likelihood that someone carries a genetic mutation based on their family history and the results of genetic tests.\n",
        "\n",
        "7.A/B Testing:\n",
        "\n",
        "Businesses often run A/B tests to see which version of a product or advertisement performs better. Bayes' theorem helps them analyze the results and update their beliefs about which version is more effective based on the data collected.\n",
        "\n",
        "8.Forensic Science:\n",
        "\n",
        "In legal cases, Bayes' theorem can be used to evaluate evidence. It helps determine how strong the evidence is in suggesting that a suspect is guilty, based on various pieces of information.\n",
        "\n",
        "Summary\n",
        "\n",
        "In summary, Bayes' theorem is a powerful tool that helps us make better decisions by updating our beliefs based on new evidence. Whether in medicine, technology, finance, or law, it provides a structured way to deal with uncertainty and improve our understanding of the world around us.\n",
        "\n",
        "\n",
        "\n",
        "\n"
      ],
      "metadata": {
        "id": "RJ6oh1XC74Jb"
      }
    },
    {
      "cell_type": "markdown",
      "source": [
        "Q4. What is the relationship between Bayes' theorem and conditional probability?"
      ],
      "metadata": {
        "id": "17E7cmcK86P_"
      }
    },
    {
      "cell_type": "markdown",
      "source": [
        "Answer:-\n",
        "\n",
        "Bayes' theorem is a mathematical formula that describes how to calculate conditional probabilities, and it provides a framework for updating probability beliefs based on new information or evidence.\n",
        "\n",
        "The relationship between Bayes' theorem and conditional probability is as follows:\n",
        "\n",
        "1.Conditional Probability: Conditional probability is a fundamental concept that deals with the probability of an event occurring given that another event has already occurred. It's denoted as P(A|B), which represents the probability of event A occurring given that event B has occurred.\n",
        "\n",
        "2.Bayes' Theorem: Bayes' theorem is a specific formula that allows you to calculate conditional probabilities. It relates the conditional probability P(A|B) to other probabilities, including the prior probability of A (P(A)), the prior probability of B (P(B)), and the likelihood of B given A (P(B|A)). The formula is as follows:\n",
        "\n",
        "P(A|B) = (P(B|A) * P(A)) / P(B)\n",
        "\n",
        "i. P(A|B) is the conditional probability you want to calculate, and it's related to the other probabilities in the equation.\n",
        "\n",
        "Bayes' theorem is a mathematical tool for calculating conditional probabilities, and it formalizes the process of updating probability beliefs in light of new evidence. It's a fundamental concept in Bayesian probability and statistics, and it plays a crucial role in various applications, such as machine learning, and decision-making under uncertainty.\n",
        "\n"
      ],
      "metadata": {
        "id": "TpU6hEAD8-JU"
      }
    },
    {
      "cell_type": "markdown",
      "source": [
        "Q5. How do you choose which type of Naive Bayes classifier to use for any given problem?"
      ],
      "metadata": {
        "id": "0SFesPdR9lfm"
      }
    },
    {
      "cell_type": "markdown",
      "source": [
        "Answer:-\n",
        "\n",
        "Choosing the right type of Naive Bayes classifier for a specific problem depends on the nature of your data and the assumptions you can make about it. Here’s a breakdown of the main types of Naive Bayes classifiers and guidance on when to use each:\n",
        "\n",
        "1.Gaussian Naive Bayes (GNB):\n",
        "\n",
        "i.Data Type: GNB is suitable for continuous or real-valued data.\n",
        "\n",
        "ii.Assumptions: It assumes that the features follow a Gaussian (normal) distribution.\n",
        "\n",
        "Example Applications: GNB is often used for problems involving continuous features, such as spam detection (with word frequencies as features) or medical diagnosis (with physiological measurements).\n",
        "\n",
        "2.Multinomial Naive Bayes (MNB):\n",
        "\n",
        "i.Data Type: MNB is commonly used with discrete data, especially when dealing with text data.\n",
        "\n",
        "ii.Assumptions: It assumes that the features represent the counts or frequencies of events (e.g., word counts in text documents).\n",
        "\n",
        "Example Applications: MNB is well-suited for text classification problems like sentiment analysis or document categorization, where features often represent word counts or term frequencies.\n",
        "\n",
        "3.Bernoulli Naive Bayes (BNB):\n",
        "\n",
        "i.Data Type: BNB is also used with discrete data, but it's tailored for binary features (i.e., features that are either present or absent).\n",
        "\n",
        "ii.Assumptions: It assumes that features are binary, where 1 represents the presence of a feature and 0 represents the absence.\n",
        "\n",
        "Example Applications: BNB is commonly applied in text classification tasks where binary features indicate whether specific words appear in a document or not (e.g., spam or not spam classification based on the presence of certain words)."
      ],
      "metadata": {
        "id": "57DuNocj9rm1"
      }
    },
    {
      "cell_type": "markdown",
      "source": [
        "Q6. Assignment:\n",
        "\n",
        "You have a dataset with two features, X1 and X2, and two possible classes, A and B. You want to use Naive\n",
        "Bayes to classify a new instance with features X1 = 3 and X2 = 4. The following table shows the frequency of\n",
        "each feature value for each class:\n",
        "\n",
        "![Screenshot 2024-12-05 001945.png](data:image/png;base64,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)\n",
        "\n",
        "Assuming equal prior probabilities for each class, which class would Naive Bayes predict the new instance\n",
        "to belong to?"
      ],
      "metadata": {
        "id": "5ybRAay-ASZx"
      }
    },
    {
      "cell_type": "markdown",
      "source": [
        "Answer:-\n",
        "\n",
        "To classify the new instance with features X1 = 3 and X2 = 4 using Naive Bayes, we need to calculate the posterior probabilities for each class, given these feature values. We can do this using Bayes' theorem:\n",
        "\n",
        "P(A|X1=3,X2=4) = P(X1=3,X2=4|A) * P(A) / P(X1=3,X2=4)\n",
        "\n",
        "P(B|X1=3,X2=4) = P(X1=3,X2=4|B) * P(B) / P(X1=3,X2=4)\n",
        "\n",
        "Since the prior probabilities for A and B are assumed to be equal, we can simplify this to:\n",
        "\n",
        "P(A|X1=3,X2=4) = P(X1=3,X2=4|A) / P(X1=3,X2=4)\n",
        "\n",
        "P(B|X1=3,X2=4) = P(X1=3,X2=4|B) / P(X1=3,X2=4)\n",
        "\n",
        "To calculate the probabilities, we need to use the Naive Bayes assumption that the features are conditionally independent, given the class. This allows us to factorize the joint probability distribution as follows:\n",
        "\n",
        "P(X1=3,X2=4|A) = P(X1=3|A) * P(X2=4|A)\n",
        "\n",
        "P(X1=3,X2=4|B) = P(X1=3|B) * P(X2=4|B)\n",
        "\n",
        "We can estimate these probabilities from the frequency table provided:\n",
        "\n",
        "P(X1=3|A) = 4/10\n",
        "\n",
        "P(X1=3|B) = 1/7\n",
        "\n",
        "P(X2=4|A) = 3/10\n",
        "\n",
        "P(X2=4|B) = 1/7\n",
        "\n",
        "To calculate the denominator, we need to use the law of total probability:\n",
        "\n",
        "P(X1=3,X2=4) = P(X1=3,X2=4|A) * P(A) + P(X1=3,X2=4|B) * P(B)\n",
        "\n",
        "We can estimate these probabilities from the frequency table provided:\n",
        "\n",
        "P(X1=3,X2=4|A) = P(X1=3|A) * P(X2=4|A) = (4/10) * (3/10) = 12/100\n",
        "\n",
        "P(X1=3,X2=4|B) = P(X1=3|B) * P(X2=4|B) = (1/7) * (1/7) = 1/49\n",
        "\n",
        "P(A) = P(B) = 0.5\n",
        "\n",
        "Therefore:\n",
        "\n",
        "P(X1=3,X2=4) = (12/100) * 0.5 + (1/49) * 0.5 = 0.124\n",
        "\n",
        "Now we can plug these values into the formula for the posterior probabilities:\n",
        "\n",
        "P(A|X1=3,X2=4) = (4/10) * (3/10) / 0.124 = 0.967\n",
        "\n",
        "P(B|X1=3,X2=4) = (1/7) * (1/7) / 0.124 = 0.033\n",
        "\n",
        "Therefore, Naive Bayes would predict that the new instance with features X1=3 and X2=4 belongs to class A, since it has a much higher posterior probability than class B."
      ],
      "metadata": {
        "id": "wPEoqAGEAjRc"
      }
    }
  ]
}